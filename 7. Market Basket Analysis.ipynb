{
 "cells": [
  {
   "cell_type": "code",
   "execution_count": 218,
   "metadata": {},
   "outputs": [],
   "source": [
    "import numpy as np\n",
    "import pandas as pd\n",
    "pd.set_option('display.max_columns', None)\n",
    "import matplotlib.pyplot as plt\n",
    "%matplotlib inline\n",
    "plt.style.use('ggplot')\n",
    "import re\n",
    "import warnings\n",
    "warnings.filterwarnings('ignore')\n",
    "\n",
    "import seaborn as sns"
   ]
  },
  {
   "cell_type": "code",
   "execution_count": 252,
   "metadata": {},
   "outputs": [
    {
     "data": {
      "text/plain": [
       "(143541, 29)"
      ]
     },
     "execution_count": 252,
     "metadata": {},
     "output_type": "execute_result"
    }
   ],
   "source": [
    "data = pd.read_csv('./data/after_clean.csv', encoding='gb18030', index_col=0)\n",
    "data = data[data['ItemName'] != 'No']\n",
    "data.shape"
   ]
  },
  {
   "cell_type": "code",
   "execution_count": 121,
   "metadata": {},
   "outputs": [],
   "source": [
    "category2 = ['拼图', '磁', '点读', '拉杆|提拉', '包', '积木', '电', '车']\n",
    "\n",
    "def categ(itemname, category):\n",
    "    '''\n",
    "    itemname: string of item name\n",
    "    category: list of all categories\n",
    "    '''\n",
    "    \n",
    "    for i in category:\n",
    "        if re.search(i,itemname) != None:\n",
    "            return i        \n",
    "    return 'No Category'"
   ]
  },
  {
   "cell_type": "code",
   "execution_count": 122,
   "metadata": {},
   "outputs": [],
   "source": [
    "data['Category2'] = data['ItemName'].apply(lambda x: categ(x,category2))"
   ]
  },
  {
   "cell_type": "code",
   "execution_count": 126,
   "metadata": {},
   "outputs": [
    {
     "data": {
      "text/plain": [
       "(132799, 31)"
      ]
     },
     "execution_count": 126,
     "metadata": {},
     "output_type": "execute_result"
    }
   ],
   "source": [
    "data = data[data['Category2'] != 'No Category']\n",
    "data.shape"
   ]
  },
  {
   "cell_type": "code",
   "execution_count": 130,
   "metadata": {},
   "outputs": [],
   "source": [
    "data = data.loc[:,['AlipayAccount','Category2']]\n",
    "data.reset_index(inplace=True, drop=True)"
   ]
  },
  {
   "cell_type": "code",
   "execution_count": 142,
   "metadata": {},
   "outputs": [],
   "source": [
    "# Filter accounts who buy more than one time\n",
    "accounts_2 = list(customer_freq[customer_freq['Category2'] > 1].index)\n",
    "data = data.loc[data['AlipayAccount'].isin(accounts_2)]"
   ]
  },
  {
   "cell_type": "code",
   "execution_count": 154,
   "metadata": {},
   "outputs": [
    {
     "data": {
      "text/html": [
       "<div>\n",
       "<style scoped>\n",
       "    .dataframe tbody tr th:only-of-type {\n",
       "        vertical-align: middle;\n",
       "    }\n",
       "\n",
       "    .dataframe tbody tr th {\n",
       "        vertical-align: top;\n",
       "    }\n",
       "\n",
       "    .dataframe thead th {\n",
       "        text-align: right;\n",
       "    }\n",
       "</style>\n",
       "<table border=\"1\" class=\"dataframe\">\n",
       "  <thead>\n",
       "    <tr style=\"text-align: right;\">\n",
       "      <th></th>\n",
       "      <th>AlipayAccount</th>\n",
       "      <th>Category2</th>\n",
       "    </tr>\n",
       "  </thead>\n",
       "  <tbody>\n",
       "    <tr>\n",
       "      <th>14</th>\n",
       "      <td>13808855801</td>\n",
       "      <td>积木</td>\n",
       "    </tr>\n",
       "    <tr>\n",
       "      <th>28</th>\n",
       "      <td>18047121272</td>\n",
       "      <td>积木</td>\n",
       "    </tr>\n",
       "    <tr>\n",
       "      <th>36</th>\n",
       "      <td>silvia80@mail.china.com</td>\n",
       "      <td>积木</td>\n",
       "    </tr>\n",
       "    <tr>\n",
       "      <th>39</th>\n",
       "      <td>17501565888</td>\n",
       "      <td>包</td>\n",
       "    </tr>\n",
       "    <tr>\n",
       "      <th>43</th>\n",
       "      <td>15841715444</td>\n",
       "      <td>包</td>\n",
       "    </tr>\n",
       "  </tbody>\n",
       "</table>\n",
       "</div>"
      ],
      "text/plain": [
       "              AlipayAccount Category2\n",
       "14              13808855801        积木\n",
       "28              18047121272        积木\n",
       "36  silvia80@mail.china.com        积木\n",
       "39              17501565888         包\n",
       "43              15841715444         包"
      ]
     },
     "execution_count": 154,
     "metadata": {},
     "output_type": "execute_result"
    }
   ],
   "source": [
    "data.head()"
   ]
  },
  {
   "cell_type": "markdown",
   "metadata": {},
   "source": [
    "## Category vs. Sold Volume"
   ]
  },
  {
   "cell_type": "code",
   "execution_count": 232,
   "metadata": {},
   "outputs": [
    {
     "data": {
      "text/html": [
       "<div>\n",
       "<style scoped>\n",
       "    .dataframe tbody tr th:only-of-type {\n",
       "        vertical-align: middle;\n",
       "    }\n",
       "\n",
       "    .dataframe tbody tr th {\n",
       "        vertical-align: top;\n",
       "    }\n",
       "\n",
       "    .dataframe thead th {\n",
       "        text-align: right;\n",
       "    }\n",
       "</style>\n",
       "<table border=\"1\" class=\"dataframe\">\n",
       "  <thead>\n",
       "    <tr style=\"text-align: right;\">\n",
       "      <th></th>\n",
       "      <th>ItemName</th>\n",
       "      <th>Counts</th>\n",
       "    </tr>\n",
       "  </thead>\n",
       "  <tbody>\n",
       "    <tr>\n",
       "      <th>0</th>\n",
       "      <td>Magnetic Toys</td>\n",
       "      <td>13863</td>\n",
       "    </tr>\n",
       "    <tr>\n",
       "      <th>1</th>\n",
       "      <td>Bags</td>\n",
       "      <td>10166</td>\n",
       "    </tr>\n",
       "    <tr>\n",
       "      <th>2</th>\n",
       "      <td>Building Block</td>\n",
       "      <td>6145</td>\n",
       "    </tr>\n",
       "    <tr>\n",
       "      <th>3</th>\n",
       "      <td>Study Toys</td>\n",
       "      <td>3143</td>\n",
       "    </tr>\n",
       "    <tr>\n",
       "      <th>4</th>\n",
       "      <td>Electrical Toys</td>\n",
       "      <td>2044</td>\n",
       "    </tr>\n",
       "    <tr>\n",
       "      <th>5</th>\n",
       "      <td>Puzzle</td>\n",
       "      <td>1678</td>\n",
       "    </tr>\n",
       "    <tr>\n",
       "      <th>6</th>\n",
       "      <td>Trolley Case</td>\n",
       "      <td>1478</td>\n",
       "    </tr>\n",
       "    <tr>\n",
       "      <th>7</th>\n",
       "      <td>Car Toys</td>\n",
       "      <td>1216</td>\n",
       "    </tr>\n",
       "  </tbody>\n",
       "</table>\n",
       "</div>"
      ],
      "text/plain": [
       "          ItemName  Counts\n",
       "0    Magnetic Toys   13863\n",
       "1             Bags   10166\n",
       "2   Building Block    6145\n",
       "3       Study Toys    3143\n",
       "4  Electrical Toys    2044\n",
       "5           Puzzle    1678\n",
       "6     Trolley Case    1478\n",
       "7         Car Toys    1216"
      ]
     },
     "execution_count": 232,
     "metadata": {},
     "output_type": "execute_result"
    }
   ],
   "source": [
    "items_count = pd.DataFrame({'ItemName':['Magnetic Toys','Bags','Building Block','Study Toys','Electrical Toys',\\\n",
    "                                        'Puzzle','Trolley Case','Car Toys'],\n",
    "                            'Counts':[13863,10166,6145,3143,2044,1678,1478,1216]})\n",
    "items_count"
   ]
  },
  {
   "cell_type": "code",
   "execution_count": 249,
   "metadata": {},
   "outputs": [
    {
     "data": {
      "text/plain": [
       "(array([0, 1, 2, 3, 4, 5, 6, 7]), <a list of 8 Text xticklabel objects>)"
      ]
     },
     "execution_count": 249,
     "metadata": {},
     "output_type": "execute_result"
    },
    {
     "data": {
      "image/png": "[encoded data removed]",
      "text/plain": [
       "<Figure size 648x432 with 1 Axes>"
      ]
     },
     "metadata": {},
     "output_type": "display_data"
    }
   ],
   "source": [
    "plt.figure(figsize=(9, 6))\n",
    "sns.barplot(\"ItemName\",\"Counts\",data=items_count)\n",
    "plt.xlabel('Category')\n",
    "plt.title('Category vs. Volume')\n",
    "plt.xticks(rotation=90)"
   ]
  },
  {
   "cell_type": "markdown",
   "metadata": {},
   "source": [
    "## Items bought by each consumer"
   ]
  },
  {
   "cell_type": "code",
   "execution_count": 160,
   "metadata": {},
   "outputs": [],
   "source": [
    "items_freq = {}\n",
    "for i in data['AlipayAccount'].unique():\n",
    "    tmp = data[data['AlipayAccount'] == i]\n",
    "    items_freq[i] = tmp['Category2'].unique()"
   ]
  },
  {
   "cell_type": "code",
   "execution_count": 173,
   "metadata": {},
   "outputs": [],
   "source": [
    "items = []\n",
    "for i in items_freq.values():\n",
    "    items.append(str(i))\n",
    "items = pd.DataFrame(items)\n",
    "items.columns = ['items']"
   ]
  },
  {
   "cell_type": "code",
   "execution_count": 194,
   "metadata": {},
   "outputs": [],
   "source": [
    "category2 = ['拼图', '磁', '点读', '拉杆|提拉', '包', '积木', '电', '车']"
   ]
  },
  {
   "cell_type": "code",
   "execution_count": 203,
   "metadata": {},
   "outputs": [],
   "source": [
    "cate = {'pingtu':'拼图',\n",
    "        'ci':'磁',\n",
    "        'diandu':'点读',\n",
    "        'lagan':'拉杆|提拉',\n",
    "        'bao':'包',\n",
    "        'jimu':'积木',\n",
    "        'dian':'电',\n",
    "        'che':'车'}\n",
    "\n",
    "def column_creat(col_list, df):\n",
    "    list_ = []\n",
    "    for i in df['items']:\n",
    "        if re.search(cate[col_list], i) != None:\n",
    "            list_.append(1)\n",
    "        else:\n",
    "            list_.append(0)\n",
    "    return list_"
   ]
  },
  {
   "cell_type": "code",
   "execution_count": 211,
   "metadata": {},
   "outputs": [],
   "source": [
    "items['拼图'] = column_creat('pingtu',items)\n",
    "items['磁'] = column_creat('ci',items)\n",
    "items['点读'] = column_creat('diandu',items)\n",
    "items['拉杆|提拉'] = column_creat('lagan',items)\n",
    "items['包'] = column_creat('bao',items)\n",
    "items['积木'] = column_creat('jimu',items)\n",
    "items['电'] = column_creat('dian',items)\n",
    "items['车'] = column_creat('che',items)"
   ]
  },
  {
   "cell_type": "code",
   "execution_count": 251,
   "metadata": {},
   "outputs": [
    {
     "data": {
      "text/html": [
       "<div>\n",
       "<style scoped>\n",
       "    .dataframe tbody tr th:only-of-type {\n",
       "        vertical-align: middle;\n",
       "    }\n",
       "\n",
       "    .dataframe tbody tr th {\n",
       "        vertical-align: top;\n",
       "    }\n",
       "\n",
       "    .dataframe thead th {\n",
       "        text-align: right;\n",
       "    }\n",
       "</style>\n",
       "<table border=\"1\" class=\"dataframe\">\n",
       "  <thead>\n",
       "    <tr style=\"text-align: right;\">\n",
       "      <th></th>\n",
       "      <th>items</th>\n",
       "      <th>Puzzle</th>\n",
       "      <th>Magnetic Toys</th>\n",
       "      <th>Study Toys</th>\n",
       "      <th>Trolley Case</th>\n",
       "      <th>Bags</th>\n",
       "      <th>Building Block</th>\n",
       "      <th>Electrical Toys</th>\n",
       "      <th>Car Toys</th>\n",
       "    </tr>\n",
       "  </thead>\n",
       "  <tbody>\n",
       "    <tr>\n",
       "      <th>14</th>\n",
       "      <td>['积木' '车' '磁']</td>\n",
       "      <td>0</td>\n",
       "      <td>1</td>\n",
       "      <td>0</td>\n",
       "      <td>0</td>\n",
       "      <td>0</td>\n",
       "      <td>1</td>\n",
       "      <td>0</td>\n",
       "      <td>1</td>\n",
       "    </tr>\n",
       "    <tr>\n",
       "      <th>15</th>\n",
       "      <td>['拉杆|提拉']</td>\n",
       "      <td>0</td>\n",
       "      <td>0</td>\n",
       "      <td>0</td>\n",
       "      <td>1</td>\n",
       "      <td>0</td>\n",
       "      <td>0</td>\n",
       "      <td>0</td>\n",
       "      <td>0</td>\n",
       "    </tr>\n",
       "    <tr>\n",
       "      <th>16</th>\n",
       "      <td>['包']</td>\n",
       "      <td>0</td>\n",
       "      <td>0</td>\n",
       "      <td>0</td>\n",
       "      <td>0</td>\n",
       "      <td>1</td>\n",
       "      <td>0</td>\n",
       "      <td>0</td>\n",
       "      <td>0</td>\n",
       "    </tr>\n",
       "    <tr>\n",
       "      <th>17</th>\n",
       "      <td>['包']</td>\n",
       "      <td>0</td>\n",
       "      <td>0</td>\n",
       "      <td>0</td>\n",
       "      <td>0</td>\n",
       "      <td>1</td>\n",
       "      <td>0</td>\n",
       "      <td>0</td>\n",
       "      <td>0</td>\n",
       "    </tr>\n",
       "    <tr>\n",
       "      <th>18</th>\n",
       "      <td>['包' '车']</td>\n",
       "      <td>0</td>\n",
       "      <td>0</td>\n",
       "      <td>0</td>\n",
       "      <td>0</td>\n",
       "      <td>1</td>\n",
       "      <td>0</td>\n",
       "      <td>0</td>\n",
       "      <td>1</td>\n",
       "    </tr>\n",
       "    <tr>\n",
       "      <th>19</th>\n",
       "      <td>['包' '积木']</td>\n",
       "      <td>0</td>\n",
       "      <td>0</td>\n",
       "      <td>0</td>\n",
       "      <td>0</td>\n",
       "      <td>1</td>\n",
       "      <td>1</td>\n",
       "      <td>0</td>\n",
       "      <td>0</td>\n",
       "    </tr>\n",
       "  </tbody>\n",
       "</table>\n",
       "</div>"
      ],
      "text/plain": [
       "             items  Puzzle  Magnetic Toys  Study Toys  Trolley Case  Bags  \\\n",
       "14  ['积木' '车' '磁']       0              1           0             0     0   \n",
       "15       ['拉杆|提拉']       0              0           0             1     0   \n",
       "16           ['包']       0              0           0             0     1   \n",
       "17           ['包']       0              0           0             0     1   \n",
       "18       ['包' '车']       0              0           0             0     1   \n",
       "19      ['包' '积木']       0              0           0             0     1   \n",
       "\n",
       "    Building Block  Electrical Toys  Car Toys  \n",
       "14               1                0         1  \n",
       "15               0                0         0  \n",
       "16               0                0         0  \n",
       "17               0                0         0  \n",
       "18               0                0         1  \n",
       "19               1                0         0  "
      ]
     },
     "execution_count": 251,
     "metadata": {},
     "output_type": "execute_result"
    }
   ],
   "source": [
    "items.columns = ['items','Puzzle','Magnetic Toys','Study Toys','Trolley Case','Bags',\\\n",
    "                 'Building Block','Electrical Toys','Car Toys']\n",
    "items.iloc[14:20,:]"
   ]
  },
  {
   "cell_type": "markdown",
   "metadata": {},
   "source": [
    "## Apriori algorithm"
   ]
  },
  {
   "cell_type": "code",
   "execution_count": 240,
   "metadata": {},
   "outputs": [],
   "source": [
    "final_data = items.iloc[:,1:]"
   ]
  },
  {
   "cell_type": "code",
   "execution_count": 245,
   "metadata": {},
   "outputs": [],
   "source": [
    "from mlxtend.frequent_patterns import apriori\n",
    "from mlxtend.frequent_patterns import association_rules\n",
    "import mlxtend as ml"
   ]
  },
  {
   "cell_type": "code",
   "execution_count": 247,
   "metadata": {},
   "outputs": [
    {
     "data": {
      "text/html": [
       "<div>\n",
       "<style scoped>\n",
       "    .dataframe tbody tr th:only-of-type {\n",
       "        vertical-align: middle;\n",
       "    }\n",
       "\n",
       "    .dataframe tbody tr th {\n",
       "        vertical-align: top;\n",
       "    }\n",
       "\n",
       "    .dataframe thead th {\n",
       "        text-align: right;\n",
       "    }\n",
       "</style>\n",
       "<table border=\"1\" class=\"dataframe\">\n",
       "  <thead>\n",
       "    <tr style=\"text-align: right;\">\n",
       "      <th></th>\n",
       "      <th>antecedents</th>\n",
       "      <th>consequents</th>\n",
       "      <th>antecedent support</th>\n",
       "      <th>consequent support</th>\n",
       "      <th>support</th>\n",
       "      <th>confidence</th>\n",
       "      <th>lift</th>\n",
       "      <th>leverage</th>\n",
       "      <th>conviction</th>\n",
       "    </tr>\n",
       "  </thead>\n",
       "  <tbody>\n",
       "    <tr>\n",
       "      <th>0</th>\n",
       "      <td>(Puzzle)</td>\n",
       "      <td>(Bags)</td>\n",
       "      <td>0.063426</td>\n",
       "      <td>0.289860</td>\n",
       "      <td>0.026543</td>\n",
       "      <td>0.418494</td>\n",
       "      <td>1.443777</td>\n",
       "      <td>0.008159</td>\n",
       "      <td>1.221207</td>\n",
       "    </tr>\n",
       "    <tr>\n",
       "      <th>5</th>\n",
       "      <td>(Car Toys)</td>\n",
       "      <td>(Electrical Toys)</td>\n",
       "      <td>0.035734</td>\n",
       "      <td>0.063003</td>\n",
       "      <td>0.003749</td>\n",
       "      <td>0.104907</td>\n",
       "      <td>1.665121</td>\n",
       "      <td>0.001497</td>\n",
       "      <td>1.046816</td>\n",
       "    </tr>\n",
       "    <tr>\n",
       "      <th>1</th>\n",
       "      <td>(Bags)</td>\n",
       "      <td>(Puzzle)</td>\n",
       "      <td>0.289860</td>\n",
       "      <td>0.063426</td>\n",
       "      <td>0.026543</td>\n",
       "      <td>0.091573</td>\n",
       "      <td>1.443777</td>\n",
       "      <td>0.008159</td>\n",
       "      <td>1.030984</td>\n",
       "    </tr>\n",
       "    <tr>\n",
       "      <th>6</th>\n",
       "      <td>(Magnetic Toys, Bags)</td>\n",
       "      <td>(Puzzle)</td>\n",
       "      <td>0.014269</td>\n",
       "      <td>0.063426</td>\n",
       "      <td>0.001028</td>\n",
       "      <td>0.072034</td>\n",
       "      <td>1.135718</td>\n",
       "      <td>0.000123</td>\n",
       "      <td>1.009276</td>\n",
       "    </tr>\n",
       "    <tr>\n",
       "      <th>4</th>\n",
       "      <td>(Electrical Toys)</td>\n",
       "      <td>(Car Toys)</td>\n",
       "      <td>0.063003</td>\n",
       "      <td>0.035734</td>\n",
       "      <td>0.003749</td>\n",
       "      <td>0.059501</td>\n",
       "      <td>1.665121</td>\n",
       "      <td>0.001497</td>\n",
       "      <td>1.025271</td>\n",
       "    </tr>\n",
       "    <tr>\n",
       "      <th>3</th>\n",
       "      <td>(Electrical Toys)</td>\n",
       "      <td>(Puzzle)</td>\n",
       "      <td>0.063003</td>\n",
       "      <td>0.063426</td>\n",
       "      <td>0.003688</td>\n",
       "      <td>0.058541</td>\n",
       "      <td>0.922988</td>\n",
       "      <td>-0.000308</td>\n",
       "      <td>0.994812</td>\n",
       "    </tr>\n",
       "    <tr>\n",
       "      <th>2</th>\n",
       "      <td>(Puzzle)</td>\n",
       "      <td>(Electrical Toys)</td>\n",
       "      <td>0.063426</td>\n",
       "      <td>0.063003</td>\n",
       "      <td>0.003688</td>\n",
       "      <td>0.058151</td>\n",
       "      <td>0.922988</td>\n",
       "      <td>-0.000308</td>\n",
       "      <td>0.994848</td>\n",
       "    </tr>\n",
       "    <tr>\n",
       "      <th>8</th>\n",
       "      <td>(Bags, Building Block)</td>\n",
       "      <td>(Puzzle)</td>\n",
       "      <td>0.023702</td>\n",
       "      <td>0.063426</td>\n",
       "      <td>0.001330</td>\n",
       "      <td>0.056122</td>\n",
       "      <td>0.884851</td>\n",
       "      <td>-0.000173</td>\n",
       "      <td>0.992262</td>\n",
       "    </tr>\n",
       "    <tr>\n",
       "      <th>9</th>\n",
       "      <td>(Puzzle)</td>\n",
       "      <td>(Bags, Building Block)</td>\n",
       "      <td>0.063426</td>\n",
       "      <td>0.023702</td>\n",
       "      <td>0.001330</td>\n",
       "      <td>0.020972</td>\n",
       "      <td>0.884851</td>\n",
       "      <td>-0.000173</td>\n",
       "      <td>0.997212</td>\n",
       "    </tr>\n",
       "    <tr>\n",
       "      <th>7</th>\n",
       "      <td>(Puzzle)</td>\n",
       "      <td>(Magnetic Toys, Bags)</td>\n",
       "      <td>0.063426</td>\n",
       "      <td>0.014269</td>\n",
       "      <td>0.001028</td>\n",
       "      <td>0.016206</td>\n",
       "      <td>1.135718</td>\n",
       "      <td>0.000123</td>\n",
       "      <td>1.001969</td>\n",
       "    </tr>\n",
       "  </tbody>\n",
       "</table>\n",
       "</div>"
      ],
      "text/plain": [
       "              antecedents             consequents  antecedent support  \\\n",
       "0                (Puzzle)                  (Bags)            0.063426   \n",
       "5              (Car Toys)       (Electrical Toys)            0.035734   \n",
       "1                  (Bags)                (Puzzle)            0.289860   \n",
       "6   (Magnetic Toys, Bags)                (Puzzle)            0.014269   \n",
       "4       (Electrical Toys)              (Car Toys)            0.063003   \n",
       "3       (Electrical Toys)                (Puzzle)            0.063003   \n",
       "2                (Puzzle)       (Electrical Toys)            0.063426   \n",
       "8  (Bags, Building Block)                (Puzzle)            0.023702   \n",
       "9                (Puzzle)  (Bags, Building Block)            0.063426   \n",
       "7                (Puzzle)   (Magnetic Toys, Bags)            0.063426   \n",
       "\n",
       "   consequent support   support  confidence      lift  leverage  conviction  \n",
       "0            0.289860  0.026543    0.418494  1.443777  0.008159    1.221207  \n",
       "5            0.063003  0.003749    0.104907  1.665121  0.001497    1.046816  \n",
       "1            0.063426  0.026543    0.091573  1.443777  0.008159    1.030984  \n",
       "6            0.063426  0.001028    0.072034  1.135718  0.000123    1.009276  \n",
       "4            0.035734  0.003749    0.059501  1.665121  0.001497    1.025271  \n",
       "3            0.063426  0.003688    0.058541  0.922988 -0.000308    0.994812  \n",
       "2            0.063003  0.003688    0.058151  0.922988 -0.000308    0.994848  \n",
       "8            0.063426  0.001330    0.056122  0.884851 -0.000173    0.992262  \n",
       "9            0.023702  0.001330    0.020972  0.884851 -0.000173    0.997212  \n",
       "7            0.014269  0.001028    0.016206  1.135718  0.000123    1.001969  "
      ]
     },
     "execution_count": 247,
     "metadata": {},
     "output_type": "execute_result"
    }
   ],
   "source": [
    "frequent_itemsets = apriori(final_data, min_support=0.001, use_colnames=True)\n",
    "rules = association_rules(frequent_itemsets, metric=\"lift\")\n",
    "rules.sort_values('confidence', ascending = False, inplace = True)\n",
    "rules.head(10)"
   ]
  }
 ],
 "metadata": {
  "kernelspec": {
   "display_name": "Python 3",
   "language": "python",
   "name": "python3"
  },
  "language_info": {
   "codemirror_mode": {
    "name": "ipython",
    "version": 3
   },
   "file_extension": ".py",
   "mimetype": "text/x-python",
   "name": "python",
   "nbconvert_exporter": "python",
   "pygments_lexer": "ipython3",
   "version": "3.6.5"
  }
 },
 "nbformat": 4,
 "nbformat_minor": 2
}
